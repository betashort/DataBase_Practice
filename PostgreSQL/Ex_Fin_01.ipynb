{
 "cells": [
  {
   "cell_type": "markdown",
   "metadata": {},
   "source": [
    "# PostgreSQL"
   ]
  },
  {
   "cell_type": "code",
   "execution_count": 1,
   "metadata": {},
   "outputs": [],
   "source": [
    "import psycopg2"
   ]
  },
  {
   "cell_type": "markdown",
   "metadata": {},
   "source": [
    "# CREATE TABLE文"
   ]
  },
  {
   "cell_type": "code",
   "execution_count": 2,
   "metadata": {},
   "outputs": [],
   "source": [
    "table_defs = [\n",
    "    #refrech\n",
    "    '''DROP TABLE IF EXISTS genre''',\n",
    "    '''DROP TABLE IF EXISTS casts''',\n",
    "    '''DROP TABLE IF EXISTS movie''',\n",
    "    '''DROP TABLE IF EXISTS director''',\n",
    "    '''DROP TABLE IF EXISTS actor''',\n",
    "    \n",
    "    # CREATE TABLE文は、必要な数だけ文字列のリスト（配列）として記述する\n",
    "    '''CREATE TABLE actor (\n",
    "    a_id INT PRIMARY KEY, \n",
    "    a_name VARCHAR,\n",
    "    a_gender VARCHAR,\n",
    "    a_dob VARCHAR,\n",
    "    a_bio VARCHAR);\n",
    "    ''',\n",
    "    '''\n",
    "    CREATE TABLE director (\n",
    "    d_id INT PRIMARY KEY, \n",
    "    d_name VARCHAR, \n",
    "    d_bio VARCHAR);\n",
    "    ''',\n",
    "    '''\n",
    "    CREATE TABLE movie (\n",
    "    m_id INT PRIMARY KEY, \n",
    "    title VARCHAR,\n",
    "    description VARCHAR,\n",
    "    run_time INT,\n",
    "    year INT,\n",
    "    d_id INT,\n",
    "    FOREIGN KEY (d_id) REFERENCES director (d_id));\n",
    "    ''',\n",
    "    '''\n",
    "    CREATE TABLE casts (\n",
    "    m_id INT, \n",
    "    a_id INT, \n",
    "    role VARCHAR, \n",
    "    PRIMARY KEY (m_id, a_id),\n",
    "    FOREIGN KEY (m_id) REFERENCES movie (m_id),\n",
    "    FOREIGN KEY (a_id) REFERENCES actor (a_id));\n",
    "    ''',\n",
    "    '''\n",
    "    CREATE TABLE genre (\n",
    "    m_id INT, \n",
    "    genre VARCHAR, \n",
    "    PRIMARY KEY (m_id, genre),\n",
    "    FOREIGN KEY (m_id) REFERENCES movie (m_id));\n",
    "    '''\n",
    "]"
   ]
  },
  {
   "cell_type": "markdown",
   "metadata": {},
   "source": [
    "# CREATE TABLEの実行"
   ]
  },
  {
   "cell_type": "code",
   "execution_count": 3,
   "metadata": {},
   "outputs": [
    {
     "name": "stdout",
     "output_type": "stream",
     "text": [
      "DROP TABLE IF EXISTS genre\n",
      "DROP TABLE IF EXISTS casts\n",
      "DROP TABLE IF EXISTS movie\n",
      "DROP TABLE IF EXISTS director\n",
      "DROP TABLE IF EXISTS actor\n",
      "CREATE TABLE actor (\n",
      "    a_id INT PRIMARY KEY, \n",
      "    a_name VARCHAR,\n",
      "    a_gender VARCHAR,\n",
      "    a_dob VARCHAR,\n",
      "    a_bio VARCHAR);\n",
      "    \n",
      "\n",
      "    CREATE TABLE director (\n",
      "    d_id INT PRIMARY KEY, \n",
      "    d_name VARCHAR, \n",
      "    d_bio VARCHAR);\n",
      "    \n",
      "\n",
      "    CREATE TABLE movie (\n",
      "    m_id INT PRIMARY KEY, \n",
      "    title VARCHAR,\n",
      "    description VARCHAR,\n",
      "    run_time INT,\n",
      "    year INT,\n",
      "    d_id INT,\n",
      "    FOREIGN KEY (d_id) REFERENCES director (d_id));\n",
      "    \n",
      "\n",
      "    CREATE TABLE casts (\n",
      "    m_id INT, \n",
      "    a_id INT, \n",
      "    role VARCHAR, \n",
      "    PRIMARY KEY (m_id, a_id),\n",
      "    FOREIGN KEY (m_id) REFERENCES movie (m_id),\n",
      "    FOREIGN KEY (a_id) REFERENCES actor (a_id));\n",
      "    \n",
      "\n",
      "    CREATE TABLE genre (\n",
      "    m_id INT, \n",
      "    genre VARCHAR, \n",
      "    PRIMARY KEY (m_id, genre),\n",
      "    FOREIGN KEY (m_id) REFERENCES movie (m_id));\n",
      "    \n",
      "Done\n"
     ]
    }
   ],
   "source": [
    "# 必要な部分以外は変更しないこと。\n",
    "import psycopg2\n",
    "\n",
    "port = 5432\n",
    "dbname   = ''\n",
    "dbuser = 'postgres'\n",
    "dbpass = ''\n",
    "\n",
    "conn = psycopg2.connect(port=port, dbname=dbname, user=dbuser, password=dbpass)\n",
    "cur = conn.cursor()\n",
    "for sql in table_defs:\n",
    "    cur.execute(sql)\n",
    "    print(sql)\n",
    "print('Done')\n",
    "conn.commit()"
   ]
  },
  {
   "cell_type": "markdown",
   "metadata": {},
   "source": [
    "# INSERT文"
   ]
  },
  {
   "cell_type": "code",
   "execution_count": 4,
   "metadata": {},
   "outputs": [],
   "source": [
    "insert_data = [\n",
    "    #actor a_id, a_name, a_gender, a_dob, a_bio\n",
    "    \"INSERT INTO actor (a_id, a_name, a_gender, a_dob, a_bio) VALUES(411682, '伊藤淳史', '男性', '11/25/83', '俳優、千葉県船橋市出身、クォータートーン所属')\",\n",
    "    \"INSERT INTO actor (a_id, a_name, a_gender, a_dob, a_bio) VALUES(1126340, '神木隆之介', '男性', '5/19/93', '俳優、声優、埼玉県出身、アミューズ所属')\",\n",
    "    \"INSERT INTO actor (a_id, a_name, a_gender, a_dob, a_bio) VALUES(3110389, '朝倉あき', '女性', '9/23/91', '女優、神奈川県出身、コニイ所属。')\",\n",
    "    \"INSERT INTO actor (a_id, a_name, a_gender, a_dob, a_bio) VALUES(4134328, '有村架純', '女性', '2/13/93', '女優、兵庫県伊丹市出身、フラーム所属')\",\n",
    "    \"INSERT INTO actor (a_id, a_name, a_gender, a_dob, a_bio) VALUES(4759838, '上白石萌音', '女性', '1/27/98', '女優、歌手、鹿児島県鹿児島市出身、東宝芸能所属')\",\n",
    "    \n",
    "    #director d_id, d_name, d_bio\n",
    "    \"INSERT INTO director(d_id, d_name, d_bio) VALUES(847223, '高畑勲', '映画監督、アニメーション演出家、プロデューサー、翻訳家')\",\n",
    "    \"INSERT INTO director(d_id, d_name, d_bio) VALUES(1396121, '新海誠', 'アニメーション監督、小説家')\",\n",
    "    \"INSERT INTO director(d_id, d_name, d_bio) VALUES(2391552, '土井裕泰', 'TBSテレビ所属のテレビドラマの演出家、映画監督')\",\n",
    "    \"INSERT INTO director(d_id, d_name, d_bio) VALUES(3311094, '大友啓史', '演出家、映画監督、元NHK職員')\",\n",
    "    \n",
    "    #movie m_id, title, description, run_time, year, d_id\n",
    "    \"INSERT INTO movie(m_id, title, description, run_time, year, d_id) VALUES(2576852, 'かぐや姫の物語', '「竹取物語」を原作としたスタジオジブリ制作のアニメーション映画。', 137, 2013, 847223)\",\n",
    "    \"INSERT INTO movie(m_id, title, description, run_time, year, d_id) VALUES(4195368, 'ビリギャル', '素行不良のギャルであり、高校2年生で小学4年生程度の学力しかなかった少女が、塾講師の指導を受け、周りと助け合い学力偏差値を上昇させ慶應義塾大学に現役合格するまでを描いた実話。', 117, 2015, 2391552)\",\n",
    "    \"INSERT INTO movie(m_id, title, description, run_time, year, d_id) VALUES(5311514, '君の名は。', '東京に暮らす少年瀧と飛騨の山奥で暮らす少女三葉の身に起きた「入れ替わり」という謎の現象と、1200年ぶりに地球に接近するとい う架空の彗星「ティアマト彗星」をめぐる出来事を描く。', 106, 2016, 1396121)\",\n",
    "    \"INSERT INTO movie(m_id, title, description, run_time, year, d_id) VALUES(5514632, '3月のライオン(前編)', '人気漫画家・羽海野チカが将棋という厳しい勝負の世界に身を置く若き天才プロ棋士を主人公に描く大ヒットコミックスをの大友啓史監 督が前後編で実写映画化した青春ドラマ。', 138, 2017, 3311094)\",\n",
    "    \n",
    "    #casts m_id, a_id, role\n",
    "    \"INSERT INTO casts(m_id, a_id, role) VALUES(2576852, 3110389, 'かぐや姫(声)')\",\n",
    "    \"INSERT INTO casts(m_id, a_id, role) VALUES(4195368, 4134328, '工藤さやか')\",\n",
    "    \"INSERT INTO casts(m_id, a_id, role) VALUES(4195368, 411682, '坪田義孝')\",\n",
    "    \"INSERT INTO casts(m_id, a_id, role) VALUES(5311514, 1126340, '立花瀧(声)')\",\n",
    "    \"INSERT INTO casts(m_id, a_id, role) VALUES(5311514, 4759838, '宮水三葉(声)')\",\n",
    "    \"INSERT INTO casts(m_id, a_id, role) VALUES(5514632, 1126340, '桐山零')\",\n",
    "    \"INSERT INTO casts(m_id, a_id, role) VALUES(5514632, 4134328, '幸田香子')\",\n",
    "    \n",
    "    #genre m_id, genre\n",
    "    \"INSERT INTO genre(m_id, genre) VALUES(2576852, 'アニメーション')\",\n",
    "    \"INSERT INTO genre(m_id, genre) VALUES(2576852, 'アドベンチャー')\",\n",
    "    \"INSERT INTO genre(m_id, genre) VALUES(2576852, 'ドラマ')\",\n",
    "    \"INSERT INTO genre(m_id, genre) VALUES(4195368, 'ドラマ')\",\n",
    "    \"INSERT INTO genre(m_id, genre) VALUES(5311514, 'アニメーション')\",\n",
    "    \"INSERT INTO genre(m_id, genre) VALUES(5311514, 'ドラマ')\",\n",
    "    \"INSERT INTO genre(m_id, genre) VALUES(5311514, 'ファンタジー')\",\n",
    "    \"INSERT INTO genre(m_id, genre) VALUES(5514632, 'ドラマ')\",\n",
    "]"
   ]
  },
  {
   "cell_type": "markdown",
   "metadata": {},
   "source": [
    "# INSERTの実行"
   ]
  },
  {
   "cell_type": "code",
   "execution_count": 5,
   "metadata": {},
   "outputs": [
    {
     "name": "stdout",
     "output_type": "stream",
     "text": [
      "INSERT INTO actor (a_id, a_name, a_gender, a_dob, a_bio) VALUES(411682, '伊藤淳史', '男性', '11/25/83', '俳優、千葉県船橋市出身、クォータートーン所属')\n",
      "INSERT INTO actor (a_id, a_name, a_gender, a_dob, a_bio) VALUES(1126340, '神木隆之介', '男性', '5/19/93', '俳優、声優、埼玉県出身、アミューズ所属')\n",
      "INSERT INTO actor (a_id, a_name, a_gender, a_dob, a_bio) VALUES(3110389, '朝倉あき', '女性', '9/23/91', '女優、神奈川県出身、コニイ所属。')\n",
      "INSERT INTO actor (a_id, a_name, a_gender, a_dob, a_bio) VALUES(4134328, '有村架純', '女性', '2/13/93', '女優、兵庫県伊丹市出身、フラーム所属')\n",
      "INSERT INTO actor (a_id, a_name, a_gender, a_dob, a_bio) VALUES(4759838, '上白石萌音', '女性', '1/27/98', '女優、歌手、鹿児島県鹿児島市出身、東宝芸能所属')\n",
      "INSERT INTO director(d_id, d_name, d_bio) VALUES(847223, '高畑勲', '映画監督、アニメーション演出家、プロデューサー、翻訳家')\n",
      "INSERT INTO director(d_id, d_name, d_bio) VALUES(1396121, '新海誠', 'アニメーション監督、小説家')\n",
      "INSERT INTO director(d_id, d_name, d_bio) VALUES(2391552, '土井裕泰', 'TBSテレビ所属のテレビドラマの演出家、映画監督')\n",
      "INSERT INTO director(d_id, d_name, d_bio) VALUES(3311094, '大友啓史', '演出家、映画監督、元NHK職員')\n",
      "INSERT INTO movie(m_id, title, description, run_time, year, d_id) VALUES(2576852, 'かぐや姫の物語', '「竹取物語」を原作としたスタジオジブリ制作のアニメーション映画。', 137, 2013, 847223)\n",
      "INSERT INTO movie(m_id, title, description, run_time, year, d_id) VALUES(4195368, 'ビリギャル', '素行不良のギャルであり、高校2年生で小学4年生程度の学力しかなかった少女が、塾講師の指導を受け、周りと助け合い学力偏差値を上昇させ慶應義塾大学に現役合格するまでを描いた実話。', 117, 2015, 2391552)\n",
      "INSERT INTO movie(m_id, title, description, run_time, year, d_id) VALUES(5311514, '君の名は。', '東京に暮らす少年瀧と飛騨の山奥で暮らす少女三葉の身に起きた「入れ替わり」という謎の現象と、1200年ぶりに地球に接近するとい う架空の彗星「ティアマト彗星」をめぐる出来事を描く。', 106, 2016, 1396121)\n",
      "INSERT INTO movie(m_id, title, description, run_time, year, d_id) VALUES(5514632, '3月のライオン(前編)', '人気漫画家・羽海野チカが将棋という厳しい勝負の世界に身を置く若き天才プロ棋士を主人公に描く大ヒットコミックスをの大友啓史監 督が前後編で実写映画化した青春ドラマ。', 138, 2017, 3311094)\n",
      "INSERT INTO casts(m_id, a_id, role) VALUES(2576852, 3110389, 'かぐや姫(声)')\n",
      "INSERT INTO casts(m_id, a_id, role) VALUES(4195368, 4134328, '工藤さやか')\n",
      "INSERT INTO casts(m_id, a_id, role) VALUES(4195368, 411682, '坪田義孝')\n",
      "INSERT INTO casts(m_id, a_id, role) VALUES(5311514, 1126340, '立花瀧(声)')\n",
      "INSERT INTO casts(m_id, a_id, role) VALUES(5311514, 4759838, '宮水三葉(声)')\n",
      "INSERT INTO casts(m_id, a_id, role) VALUES(5514632, 1126340, '桐山零')\n",
      "INSERT INTO casts(m_id, a_id, role) VALUES(5514632, 4134328, '幸田香子')\n",
      "INSERT INTO genre(m_id, genre) VALUES(2576852, 'アニメーション')\n",
      "INSERT INTO genre(m_id, genre) VALUES(2576852, 'アドベンチャー')\n",
      "INSERT INTO genre(m_id, genre) VALUES(2576852, 'ドラマ')\n",
      "INSERT INTO genre(m_id, genre) VALUES(4195368, 'ドラマ')\n",
      "INSERT INTO genre(m_id, genre) VALUES(5311514, 'アニメーション')\n",
      "INSERT INTO genre(m_id, genre) VALUES(5311514, 'ドラマ')\n",
      "INSERT INTO genre(m_id, genre) VALUES(5311514, 'ファンタジー')\n",
      "INSERT INTO genre(m_id, genre) VALUES(5514632, 'ドラマ')\n",
      "Done\n"
     ]
    }
   ],
   "source": [
    "conn = psycopg2.connect(port=port, dbname=dbname, user=dbuser, password=dbpass)\n",
    "cur = conn.cursor()\n",
    "for sql in insert_data:\n",
    "    print(sql)\n",
    "    cur.execute(sql)\n",
    "print('Done')\n",
    "conn.commit()"
   ]
  },
  {
   "cell_type": "markdown",
   "metadata": {},
   "source": [
    "# SELECT文とその実行"
   ]
  },
  {
   "cell_type": "code",
   "execution_count": 6,
   "metadata": {},
   "outputs": [],
   "source": [
    "def check_title_by_aname(a_name):\n",
    "\n",
    "    conn = psycopg2.connect(port=port, dbname=dbname, user=dbuser, password=dbpass)\n",
    "    cur = conn.cursor()\n",
    "    \n",
    "    # a_nameからa_idを検索\n",
    "    sql = \"SELECT a_id FROM actor WHERE a_name=%s\"\n",
    "    cur.execute(sql, (a_name,))\n",
    "    res = cur.fetchall()\n",
    "\n",
    "    # a_idからm_idを検索\n",
    "    sql = \"SELECT m_id FROM casts WHERE casts.a_id=%s\"\n",
    "    cur.execute(sql, (res[0],))\n",
    "    movies = cur.fetchall()\n",
    "    \n",
    "    # m_id => title\n",
    "    titles = []\n",
    "    sql = \"SELECT title FROM movie WHERE movie.m_id=%s\"\n",
    "    for i in movies:\n",
    "        cur.execute(sql, (i[0],))\n",
    "        titles.append(cur.fetchall()[0])\n",
    "    conn.close()\n",
    "    return(titles)"
   ]
  },
  {
   "cell_type": "code",
   "execution_count": 7,
   "metadata": {},
   "outputs": [
    {
     "name": "stdout",
     "output_type": "stream",
     "text": [
      "('ビリギャル',)\n",
      "('3月のライオン(前編)',)\n"
     ]
    }
   ],
   "source": [
    "title = check_title_by_aname('有村架純')\n",
    "for i in title:\n",
    "    print(i)"
   ]
  },
  {
   "cell_type": "code",
   "execution_count": null,
   "metadata": {},
   "outputs": [],
   "source": []
  }
 ],
 "metadata": {
  "kernelspec": {
   "display_name": "Python 3",
   "language": "python",
   "name": "python3"
  },
  "language_info": {
   "codemirror_mode": {
    "name": "ipython",
    "version": 3
   },
   "file_extension": ".py",
   "mimetype": "text/x-python",
   "name": "python",
   "nbconvert_exporter": "python",
   "pygments_lexer": "ipython3",
   "version": "3.7.5"
  }
 },
 "nbformat": 4,
 "nbformat_minor": 4
}
