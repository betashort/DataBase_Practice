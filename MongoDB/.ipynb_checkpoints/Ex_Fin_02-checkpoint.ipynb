{
 "cells": [
  {
   "cell_type": "markdown",
   "metadata": {},
   "source": [
    "# MongoDB"
   ]
  },
  {
   "cell_type": "code",
   "execution_count": 1,
   "metadata": {},
   "outputs": [],
   "source": [
    "import pymongo\n",
    "\n",
    "db_file = 'ex_fin_02'"
   ]
  },
  {
   "cell_type": "markdown",
   "metadata": {},
   "source": [
    "# movie_data"
   ]
  },
  {
   "cell_type": "code",
   "execution_count": 2,
   "metadata": {},
   "outputs": [],
   "source": [
    "movie_data = [\n",
    "    {\"m_id\": 2576852, \n",
    "     \"title\":  'かぐや姫の物語',\n",
    "     \"description\":  '「竹取物語」を原作としたスタジオジブリ制作のアニメーション映画。', \n",
    "     \"run_time\": 137,\n",
    "     \"year\": 2013,\n",
    "     \"casts\": [3110389],\n",
    "     \"d_id\": 847223,\n",
    "     \"genre\": ['アニメーション', 'アドベンチャー', 'ドラマ'],\n",
    "    },\n",
    "    {\"m_id\": 4195368, \n",
    "     \"title\":  'ビリギャル',\n",
    "     \"description\":  '素行不良のギャルであり、高校2年生で小学4年生程度の学力しかなかった少女が、塾講師の指導を受け、周りと助け合い学力偏差値を上昇させ慶應義塾大学に現役合格するまでを描いた実話。', \n",
    "     \"run_time\": 117,\n",
    "     \"year\": 2015,\n",
    "     \"casts\": [4134328, 411682],\n",
    "     \"d_id\":  2391552,\n",
    "     \"genre\": ['ドラマ'],\n",
    "    },\n",
    "    {\"m_id\": 5311514, \n",
    "     \"title\":  '君の名は。',\n",
    "     \"description\":  '東京に暮らす少年瀧と飛騨の山奥で暮らす少女三葉の身に起きた「入れ替わり」という謎の現象と、1200年ぶりに地球に接近するとい う架空の彗星「ティアマト彗星」をめぐる出来事を描く。', \n",
    "     \"run_time\": 106,\n",
    "     \"year\": 2016,\n",
    "     \"casts\": [1126340, 4759838],\n",
    "     \"d_id\":  1396121,\n",
    "     \"genre\": ['アニメーション', 'ドラマ', 'ファンタジー'],\n",
    "    },\n",
    "    {\"m_id\": 5514632, \n",
    "     \"title\":  '3月のライオン(前編)',\n",
    "     \"description\":  '人気漫画家・羽海野チカが将棋という厳しい勝負の世界に身を置く若き天才プロ棋士を主人公に描く大ヒットコミックスをの大友啓史監 督が前後編で実写映画化した青春ドラマ。', \n",
    "     \"run_time\": 138,\n",
    "     \"year\": 2017,\n",
    "     \"casts\": [1126340, 4134328],\n",
    "     \"d_id\": 3311094,\n",
    "     \"genre\": ['ドラマ'],\n",
    "    },\n",
    "]    "
   ]
  },
  {
   "cell_type": "code",
   "execution_count": 3,
   "metadata": {},
   "outputs": [],
   "source": [
    "with pymongo.MongoClient() as conn:\n",
    "    db = conn [db_file]\n",
    "    db.movie.drop()\n",
    "    for data in movie_data:\n",
    "        db.movie.insert_one(data)\n",
    "    db.movie.create_index([(\"m_id\", 1)], unique=True)"
   ]
  },
  {
   "cell_type": "markdown",
   "metadata": {},
   "source": [
    "# actor_data"
   ]
  },
  {
   "cell_type": "code",
   "execution_count": 4,
   "metadata": {},
   "outputs": [],
   "source": [
    "actor_data = [\n",
    "    {\"a_id\": 411682, \n",
    "     \"a_name\": '伊藤淳史',\n",
    "     \"a_gender\": '男性', \n",
    "     \"a_dob\": '11/25/83',\n",
    "     \"a_bio\": '俳優、千葉県船橋市出身、クォータートーン所属',\n",
    "    },\n",
    "    {\"a_id\": 1126340, \n",
    "     \"a_name\": '神木隆之介', \n",
    "     \"a_gender\": '男性', \n",
    "     \"a_dob\": '5/19/93',\n",
    "     \"a_bio\": '俳優、声優、埼玉県出身、アミューズ所属',\n",
    "    },\n",
    "    {\"a_id\": 3110389, \n",
    "     \"a_name\": '朝倉あき', \n",
    "     \"a_gender\": '女性', \n",
    "     \"a_dob\": '9/23/91',\n",
    "     \"a_bio\": '女優、神奈川県出身、コニイ所属。',\n",
    "    },\n",
    "    {\"a_id\": 4134328, \n",
    "     \"a_name\": '有村架純', \n",
    "     \"a_gender\": '女性', \n",
    "     \"a_dob\": '2/13/93',\n",
    "     \"a_bio\": '女優、兵庫県伊丹市出身、フラーム所属',\n",
    "    },\n",
    "    {\"a_id\": 4759838, \n",
    "     \"a_name\": '上白石萌音', \n",
    "     \"a_gender\": '女性', \n",
    "     \"a_dob\": '2/13/93',\n",
    "     \"a_bio\": '女優、歌手、鹿児島県鹿児島市出身、東宝芸能所属',\n",
    "    }\n",
    "]    "
   ]
  },
  {
   "cell_type": "code",
   "execution_count": 5,
   "metadata": {},
   "outputs": [],
   "source": [
    "with pymongo.MongoClient() as conn:\n",
    "    db = conn [db_file]\n",
    "    db.actor.drop()\n",
    "    for data in actor_data:\n",
    "        db.actor.insert_one(data)\n",
    "    db.actor.create_index([(\"a_id\", 1)], unique=True)"
   ]
  },
  {
   "cell_type": "markdown",
   "metadata": {},
   "source": [
    "# director_data"
   ]
  },
  {
   "cell_type": "code",
   "execution_count": 6,
   "metadata": {},
   "outputs": [],
   "source": [
    "director_data = [\n",
    "    {\"d_id\": 847223, \n",
    "     \"d_name\": '高畑勲', \n",
    "     \"d_bio\": '映画監督、アニメーション演出家、プロデューサー、翻訳家', \n",
    "    },\n",
    "    {\"d_id\": 1396121, \n",
    "     \"d_name\": '新海誠', \n",
    "     \"d_bio\": 'アニメーション監督、小説家', \n",
    "    },\n",
    "    {\"d_id\": 2391552, \n",
    "     \"d_name\": '土井裕泰', \n",
    "     \"d_bio\": 'TBSテレビ所属のテレビドラマの演出家、映画監督', \n",
    "    },\n",
    "    {\"d_id\": 3311094, \n",
    "     \"d_name\": '大友啓史', \n",
    "     \"d_bio\": '演出家、映画監督、元NHK職員', \n",
    "    }\n",
    "]    "
   ]
  },
  {
   "cell_type": "code",
   "execution_count": 7,
   "metadata": {},
   "outputs": [
    {
     "name": "stdout",
     "output_type": "stream",
     "text": [
      "{'d_id': 847223, 'd_name': '高畑勲', 'd_bio': '映画監督、アニメーション演出家、プロデューサー、翻訳家'}\n",
      "{'d_id': 1396121, 'd_name': '新海誠', 'd_bio': 'アニメーション監督、小説家'}\n",
      "{'d_id': 2391552, 'd_name': '土井裕泰', 'd_bio': 'TBSテレビ所属のテレビドラマの演出家、映画監督'}\n",
      "{'d_id': 3311094, 'd_name': '大友啓史', 'd_bio': '演出家、映画監督、元NHK職員'}\n"
     ]
    }
   ],
   "source": [
    "with pymongo.MongoClient() as conn:\n",
    "    db = conn [db_file]\n",
    "    db.director.drop()\n",
    "    for data in director_data:\n",
    "        print(data)\n",
    "        db.director.insert_one(data)\n",
    "    db.director.create_index([(\"d_id\", 1)], unique=True)"
   ]
  },
  {
   "cell_type": "markdown",
   "metadata": {},
   "source": [
    "# 確認"
   ]
  },
  {
   "cell_type": "code",
   "execution_count": 8,
   "metadata": {},
   "outputs": [
    {
     "name": "stdout",
     "output_type": "stream",
     "text": [
      "======Movie_data======\n",
      "{'_id': ObjectId('5e217883fa05bf3c4061a12d'), 'm_id': 2576852, 'title': 'かぐや姫の物語', 'description': '「竹取物語」を原作としたスタジオジブリ制作のアニメーション映画。', 'run_time': 137, 'year': 2013, 'casts': [3110389], 'd_id': 847223, 'genre': ['アニメーション', 'アドベンチャー', 'ドラマ']}\n",
      "{'_id': ObjectId('5e217883fa05bf3c4061a12e'), 'm_id': 4195368, 'title': 'ビリギャル', 'description': '素行不良のギャルであり、高校2年生で小学4年生程度の学力しかなかった少女が、塾講師の指導を受け、周りと助け合い学力偏差値を上昇させ慶應義塾大学に現役合格するまでを描いた実話。', 'run_time': 117, 'year': 2015, 'casts': [4134328, 411682], 'd_id': 2391552, 'genre': ['ドラマ']}\n",
      "{'_id': ObjectId('5e217883fa05bf3c4061a12f'), 'm_id': 5311514, 'title': '君の名は。', 'description': '東京に暮らす少年瀧と飛騨の山奥で暮らす少女三葉の身に起きた「入れ替わり」という謎の現象と、1200年ぶりに地球に接近するとい う架空の彗星「ティアマト彗星」をめぐる出来事を描く。', 'run_time': 106, 'year': 2016, 'casts': [1126340, 4759838], 'd_id': 1396121, 'genre': ['アニメーション', 'ドラマ', 'ファンタジー']}\n",
      "{'_id': ObjectId('5e217883fa05bf3c4061a130'), 'm_id': 5514632, 'title': '3月のライオン(前編)', 'description': '人気漫画家・羽海野チカが将棋という厳しい勝負の世界に身を置く若き天才プロ棋士を主人公に描く大ヒットコミックスをの大友啓史監 督が前後編で実写映画化した青春ドラマ。', 'run_time': 138, 'year': 2017, 'casts': [1126340, 4134328], 'd_id': 3311094, 'genre': ['ドラマ']}\n",
      "======Actor_data======\n",
      "{'_id': ObjectId('5e217884fa05bf3c4061a132'), 'a_id': 411682, 'a_name': '伊藤淳史', 'a_gender': '男性', 'a_dob': '11/25/83', 'a_bio': '俳優、千葉県船橋市出身、クォータートーン所属'}\n",
      "{'_id': ObjectId('5e217884fa05bf3c4061a133'), 'a_id': 1126340, 'a_name': '神木隆之介', 'a_gender': '男性', 'a_dob': '5/19/93', 'a_bio': '俳優、声優、埼玉県出身、アミューズ所属'}\n",
      "{'_id': ObjectId('5e217884fa05bf3c4061a134'), 'a_id': 3110389, 'a_name': '朝倉あき', 'a_gender': '女性', 'a_dob': '9/23/91', 'a_bio': '女優、神奈川県出身、コニイ所属。'}\n",
      "{'_id': ObjectId('5e217884fa05bf3c4061a135'), 'a_id': 4134328, 'a_name': '有村架純', 'a_gender': '女性', 'a_dob': '2/13/93', 'a_bio': '女優、兵庫県伊丹市出身、フラーム所属'}\n",
      "{'_id': ObjectId('5e217884fa05bf3c4061a136'), 'a_id': 4759838, 'a_name': '上白石萌音', 'a_gender': '女性', 'a_dob': '2/13/93', 'a_bio': '女優、歌手、鹿児島県鹿児島市出身、東宝芸能所属'}\n",
      "======Director_data======\n",
      "{'_id': ObjectId('5e217886fa05bf3c4061a138'), 'd_id': 847223, 'd_name': '高畑勲', 'd_bio': '映画監督、アニメーション演出家、プロデューサー、翻訳家'}\n",
      "{'_id': ObjectId('5e217886fa05bf3c4061a139'), 'd_id': 1396121, 'd_name': '新海誠', 'd_bio': 'アニメーション監督、小説家'}\n",
      "{'_id': ObjectId('5e217886fa05bf3c4061a13a'), 'd_id': 2391552, 'd_name': '土井裕泰', 'd_bio': 'TBSテレビ所属のテレビドラマの演出家、映画監督'}\n",
      "{'_id': ObjectId('5e217886fa05bf3c4061a13b'), 'd_id': 3311094, 'd_name': '大友啓史', 'd_bio': '演出家、映画監督、元NHK職員'}\n"
     ]
    }
   ],
   "source": [
    "with pymongo.MongoClient() as conn:\n",
    "    db = conn [db_file]\n",
    "    print(\"======Movie_data======\")\n",
    "    for movie in db.movie.find():\n",
    "        print(movie)\n",
    "    print(\"======Actor_data======\")\n",
    "    for actor in db.actor.find():\n",
    "        print(actor)\n",
    "    print(\"======Director_data======\")\n",
    "    for director in db.director.find():\n",
    "        print(director)"
   ]
  },
  {
   "cell_type": "markdown",
   "metadata": {},
   "source": [
    "# 検索"
   ]
  },
  {
   "cell_type": "code",
   "execution_count": 9,
   "metadata": {},
   "outputs": [],
   "source": [
    "def check_title_by_aname(a_name):\n",
    "    ''' uid = 'ユーザID'\n",
    "    タイムラインの投稿を最大10件まで返す。'''\n",
    "    #\n",
    "    # データベースをオープンする。\n",
    "    with pymongo.MongoClient() as conn:\n",
    "        db = conn [db_file]\n",
    "        #\n",
    "        # ユーザIDでタイムラインを検索する。\n",
    "        a_id = db.actor.find_one({\"a_name\": a_name}, [\"a_id\"])\n",
    "        #print('#Debug', a_id)\n",
    "        a_id = a_id[\"a_id\"]\n",
    "        #print('#Debug', a_id)\n",
    "        \n",
    "        # a_idからtitleを検索\n",
    "        find_titles = db.movie.find({\"casts\": a_id}, [\"title\"])\n",
    "        titles = []\n",
    "        for i in range(find_titles.count()):\n",
    "            #print('#Debug', find_titles[i])\n",
    "            titles.append(find_titles[i]['title'])\n",
    "            \n",
    "        return (titles)"
   ]
  },
  {
   "cell_type": "code",
   "execution_count": 10,
   "metadata": {},
   "outputs": [
    {
     "name": "stdout",
     "output_type": "stream",
     "text": [
      "ビリギャル\n",
      "3月のライオン(前編)\n"
     ]
    },
    {
     "name": "stderr",
     "output_type": "stream",
     "text": [
      "C:\\Users\\ail11208\\Anaconda3\\lib\\site-packages\\ipykernel_launcher.py:18: DeprecationWarning: count is deprecated. Use Collection.count_documents instead.\n"
     ]
    }
   ],
   "source": [
    "title = check_title_by_aname('有村架純')\n",
    "for i in title:\n",
    "    print(i)"
   ]
  },
  {
   "cell_type": "code",
   "execution_count": null,
   "metadata": {},
   "outputs": [],
   "source": []
  }
 ],
 "metadata": {
  "kernelspec": {
   "display_name": "Python 3",
   "language": "python",
   "name": "python3"
  },
  "language_info": {
   "codemirror_mode": {
    "name": "ipython",
    "version": 3
   },
   "file_extension": ".py",
   "mimetype": "text/x-python",
   "name": "python",
   "nbconvert_exporter": "python",
   "pygments_lexer": "ipython3",
   "version": "3.7.5"
  }
 },
 "nbformat": 4,
 "nbformat_minor": 4
}
